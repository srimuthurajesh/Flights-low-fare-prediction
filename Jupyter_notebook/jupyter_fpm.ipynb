{
 "cells": [
  {
   "cell_type": "code",
   "execution_count": 4,
   "metadata": {},
   "outputs": [
    {
     "name": "stdout",
     "output_type": "stream",
     "text": [
      "requested_date                 int64\n",
      "requested_month                int64\n",
      "requested_year                 int64\n",
      "airline_code_label              int8\n",
      "origin_airport_code_label       int8\n",
      "dest_airport_code_label         int8\n",
      "num_passenger                float64\n",
      "departure_hour                 int64\n",
      "departure_date                 int64\n",
      "departure_month                int64\n",
      "departure_year                 int64\n",
      "dtype: object\n",
      "Mean Absolute Error: 2021.1348575137915\n",
      "Mean Squared Error: 8516509.08462472\n",
      "Root Mean Squared Error: 2918.3058586489387\n",
      "R2_score: 0.16167630595000357\n",
      "score= 0.02613922790563916\n"
     ]
    }
   ],
   "source": [
    "import pandas as pd\n",
    "import numpy as np\n",
    "from sklearn.model_selection import train_test_split\n",
    "from sklearn.linear_model import LinearRegression\n",
    "from sklearn import metrics\n",
    "from sklearn import svm\n",
    "\n",
    "df = pd.read_pickle('/var/www/html/ML/flight_low_fare_prediction/fare_prediction.pkl')\n",
    "X = df[['requested_date',\n",
    "\t\t  'requested_month',\n",
    "\t\t  'requested_year',\n",
    "\t\t  'airline_code_label', \n",
    "\t\t  'origin_airport_code_label', \n",
    "\t\t  'dest_airport_code_label', \n",
    "\t\t  'num_passenger',\n",
    "\t\t  'departure_hour',\n",
    "\t\t  'departure_date',\n",
    "\t\t  'departure_month',\n",
    "\t\t  'departure_year'\n",
    "\t\t ]]\n",
    "\t\t \n",
    "#X = df.drop(columns=['base_fare'])\t\t \n",
    "y = df['base_fare'] \n",
    "\n",
    "#df['orgin-dest'] = df['origin_airport_code'] + ' ' + df['dest_airport_code'] \n",
    "\n",
    "#df = df.loc[(df['airline_code']=='6E')]\n",
    "\n",
    "print(X.dtypes)\n",
    "\n",
    "X_train,X_test,y_train,y_test = train_test_split(X, y, test_size=0.4, random_state=4)\n",
    "linreg = LinearRegression()\n",
    "linreg.fit(X_train,y_train)\n",
    "y_pred = linreg.predict(X_test)\n",
    "#print(linreg.score(X_test, y_pred))\n",
    "print('Mean Absolute Error:', metrics.mean_absolute_error(y_test, y_pred))  \n",
    "print('Mean Squared Error:', metrics.mean_squared_error(y_test, y_pred))  \n",
    "print('Root Mean Squared Error:', np.sqrt(metrics.mean_squared_error(y_test, y_pred)))  \n",
    "print('R2_score:', np.sqrt(metrics.r2_score(y_test, y_pred)))\n",
    "print('score=',linreg.score(X_test,y_test))\n",
    " \n"
   ]
  },
  {
   "cell_type": "code",
   "execution_count": null,
   "metadata": {},
   "outputs": [],
   "source": []
  }
 ],
 "metadata": {
  "kernelspec": {
   "display_name": "Python 3",
   "language": "python",
   "name": "python3"
  },
  "language_info": {
   "codemirror_mode": {
    "name": "ipython",
    "version": 3
   },
   "file_extension": ".py",
   "mimetype": "text/x-python",
   "name": "python",
   "nbconvert_exporter": "python",
   "pygments_lexer": "ipython3",
   "version": "3.4.3"
  }
 },
 "nbformat": 4,
 "nbformat_minor": 2
}
