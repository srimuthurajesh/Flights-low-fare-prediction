{
 "cells": [
  {
   "cell_type": "code",
   "execution_count": 30,
   "metadata": {},
   "outputs": [],
   "source": [
    "import numpy as np\n",
    "import pandas as pd\n",
    "from sklearn.preprocessing import OneHotEncoder\n",
    "from sklearn.linear_model import LinearRegression\n",
    "import scipy.stats as stats\n",
    "import matplotlib.pyplot as plt\n",
    "from sklearn.model_selection import train_test_split\n",
    "from sklearn.metrics import mean_squared_error\n",
    "from sklearn.metrics import mean_absolute_error\n",
    "import sys\n",
    "import pickle\n",
    "import math\n",
    "from sklearn.linear_model import Ridge\n",
    "#df = pd.read_pickle('../pandas_corporate_airline_code.pkl')\n",
    "df = pd.read_pickle('../data/fare_prediction.pkl')\n"
   ]
  },
  {
   "cell_type": "code",
   "execution_count": 31,
   "metadata": {
    "scrolled": false
   },
   "outputs": [
    {
     "data": {
      "text/plain": [
       "request_date                         object\n",
       "pnr_date                             object\n",
       "base_fare                           float64\n",
       "flight_no                           float64\n",
       "cabin_class                          object\n",
       "faretype                             object\n",
       "trip_type                            object\n",
       "airline_code                         object\n",
       "origin_airport_code                  object\n",
       "dest_airport_code                    object\n",
       "num_passenger                       float64\n",
       "date_departure                       object\n",
       "time_departure                       object\n",
       "fare_basis_code                      object\n",
       "departure_timestamp          datetime64[ns]\n",
       "orgin-dest                           object\n",
       "origin_airport_code_label              int8\n",
       "dest_airport_code_label                int8\n",
       "departure_date                        int64\n",
       "departure_month                       int64\n",
       "departure_year                        int64\n",
       "departure_hour                        int64\n",
       "departure_minute                      int64\n",
       "requested_timestamp          datetime64[ns]\n",
       "requested_date                        int64\n",
       "requested_month                       int64\n",
       "requested_year                        int64\n",
       "days_to_departure                     int64\n",
       "airline_code_label                     int8\n",
       "dtype: object"
      ]
     },
     "execution_count": 31,
     "metadata": {},
     "output_type": "execute_result"
    }
   ],
   "source": [
    "df.dtypes"
   ]
  },
  {
   "cell_type": "code",
   "execution_count": 32,
   "metadata": {
    "scrolled": true
   },
   "outputs": [],
   "source": [
    "\n",
    "df = df.sort_values(['base_fare'])\n"
   ]
  },
  {
   "cell_type": "code",
   "execution_count": 33,
   "metadata": {},
   "outputs": [],
   "source": [
    "#summary = df.describe()\n",
    "#summary"
   ]
  },
  {
   "cell_type": "code",
   "execution_count": 34,
   "metadata": {},
   "outputs": [
    {
     "data": {
      "text/plain": [
       "count    1.016877e+06\n",
       "mean     4.523373e+03\n",
       "std      1.938274e+03\n",
       "min      1.001000e+03\n",
       "25%      3.034000e+03\n",
       "50%      4.298000e+03\n",
       "75%      5.766000e+03\n",
       "max      9.999000e+03\n",
       "Name: base_fare, dtype: float64"
      ]
     },
     "execution_count": 34,
     "metadata": {},
     "output_type": "execute_result"
    }
   ],
   "source": [
    "summary.base_fare"
   ]
  },
  {
   "cell_type": "code",
   "execution_count": 35,
   "metadata": {},
   "outputs": [
    {
     "name": "stdout",
     "output_type": "stream",
     "text": [
      "MaxValue :  10770.0\n",
      "MinValue :  1506.0\n"
     ]
    }
   ],
   "source": [
    "#CORRELATION \n",
    "maxValue = 6138+(1.5*(6138-3050))\n",
    "print('MaxValue : ',maxValue)\n",
    "minValue = 6138-(1.5*(6138-3050))\n",
    "print('MinValue : ',minValue)\n"
   ]
  },
  {
   "cell_type": "code",
   "execution_count": 36,
   "metadata": {},
   "outputs": [],
   "source": [
    "#Box plot graph\n",
    "plt.boxplot(df['base_fare'])\n",
    "plt.ylim([0,10000])\n",
    "plt.show()"
   ]
  },
  {
   "cell_type": "code",
   "execution_count": 40,
   "metadata": {},
   "outputs": [],
   "source": [
    "#Histogram\n",
    "plt.hist(df['base_fare'])\n",
    "plt.ylim([0,100000])\n",
    "plt.xlim([-1000,19000])\n",
    "plt.show()"
   ]
  },
  {
   "cell_type": "code",
   "execution_count": null,
   "metadata": {
    "scrolled": false
   },
   "outputs": [],
   "source": [
    "#Correlation\n",
    "df.corr().base_fare"
   ]
  },
  {
   "cell_type": "code",
   "execution_count": null,
   "metadata": {},
   "outputs": [],
   "source": [
    "#Covariance\n",
    "df.cov().base_fare"
   ]
  },
  {
   "cell_type": "code",
   "execution_count": null,
   "metadata": {},
   "outputs": [],
   "source": []
  },
  {
   "cell_type": "code",
   "execution_count": null,
   "metadata": {},
   "outputs": [],
   "source": []
  }
 ],
 "metadata": {
  "kernelspec": {
   "display_name": "Python 3",
   "language": "python",
   "name": "python3"
  },
  "language_info": {
   "codemirror_mode": {
    "name": "ipython",
    "version": 3
   },
   "file_extension": ".py",
   "mimetype": "text/x-python",
   "name": "python",
   "nbconvert_exporter": "python",
   "pygments_lexer": "ipython3",
   "version": "3.4.3"
  }
 },
 "nbformat": 4,
 "nbformat_minor": 2
}
